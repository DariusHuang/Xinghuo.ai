{
 "cells": [
  {
   "cell_type": "code",
   "execution_count": 2,
   "metadata": {},
   "outputs": [],
   "source": [
    "from tfrecord_utility import get_parsed_dataset\n",
    "import tensorflow as tf\n",
    "\n",
    "\n",
    "model = tf.keras.models.load_model('./models/resnet-Xinghuo-driving-1603168181.665796.h5')\n",
    "\n",
    "model.compile(optimizer=tf.keras.optimizers.Adam(lr=0.001), \n",
    "                  metrics=[tf.keras.metrics.mean_squared_error], \n",
    "                  loss=tf.keras.losses.mean_squared_error,\n",
    "                 )"
   ]
  },
  {
   "cell_type": "code",
   "execution_count": 3,
   "metadata": {},
   "outputs": [
    {
     "name": "stdout",
     "output_type": "stream",
     "text": [
      "373/373 [==============================] - 9s 25ms/step - loss: 3.1191e-05 - mean_squared_error: 3.1233e-05\n",
      "[3.119060182694646e-05, 3.123331e-05]\n"
     ]
    }
   ],
   "source": [
    "eval_dataset = get_parsed_dataset(record_file=\"./tfrecord/validation.record\",\n",
    "                                      batch_size=32,\n",
    "                                      epochs=1,\n",
    "                                      shuffle=True)\n",
    "evaluation = model.evaluate(eval_dataset)\n",
    "print(evaluation)"
   ]
  },
  {
   "cell_type": "code",
   "execution_count": 5,
   "metadata": {},
   "outputs": [
    {
     "name": "stdout",
     "output_type": "stream",
     "text": [
      "6250/6250 [==============================] - 99s 16ms/step - loss: 1.8230e-05 - mean_squared_error: 1.8230e-05\n",
      "[1.8229631455033086e-05, 1.8229639e-05]\n"
     ]
    }
   ],
   "source": [
    "train_dataset = get_parsed_dataset(record_file=\"./tfrecord/train.record\",\n",
    "                                      batch_size=32,\n",
    "                                      epochs=1,\n",
    "                                      shuffle=True)\n",
    "evaluation = model.evaluate(train_dataset)\n",
    "print(evaluation)"
   ]
  },
  {
   "cell_type": "code",
   "execution_count": 7,
   "metadata": {},
   "outputs": [
    {
     "name": "stdout",
     "output_type": "stream",
     "text": [
      "<PrefetchDataset shapes: ((None, 128, 128, 3), (None, 64)), types: (tf.float32, tf.float32)>\n",
      "<PrefetchDataset shapes: ((None, 128, 128, 3), (None, 64)), types: (tf.float32, tf.float32)>\n"
     ]
    }
   ],
   "source": [
    "print(train_dataset)\n",
    "print(eval_dataset)"
   ]
  },
  {
   "cell_type": "code",
   "execution_count": null,
   "metadata": {},
   "outputs": [],
   "source": []
  }
 ],
 "metadata": {
  "kernelspec": {
   "display_name": "conda_tensorflow2_py3",
   "language": "python",
   "name": "conda_tensorflow2_py3"
  },
  "language_info": {
   "codemirror_mode": {
    "name": "ipython",
    "version": 3
   },
   "file_extension": ".py",
   "mimetype": "text/x-python",
   "name": "python",
   "nbconvert_exporter": "python",
   "pygments_lexer": "ipython3",
   "version": "3.6.5"
  }
 },
 "nbformat": 4,
 "nbformat_minor": 4
}
